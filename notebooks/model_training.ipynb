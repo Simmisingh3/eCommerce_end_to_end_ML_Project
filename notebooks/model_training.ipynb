{
 "cells": [
  {
   "cell_type": "code",
   "execution_count": 2,
   "metadata": {},
   "outputs": [],
   "source": [
    "import pandas as pd\n",
    "import numpy as np"
   ]
  },
  {
   "cell_type": "code",
   "execution_count": 3,
   "metadata": {},
   "outputs": [],
   "source": [
    "data = pd.read_csv(\"./data/Ecommerce_Customers.csv\")"
   ]
  },
  {
   "cell_type": "code",
   "execution_count": 4,
   "metadata": {},
   "outputs": [],
   "source": [
    "data.drop(labels=[\"Email\"], axis = 1, inplace=True)"
   ]
  },
  {
   "cell_type": "code",
   "execution_count": 5,
   "metadata": {},
   "outputs": [],
   "source": [
    "data.drop(labels=[\"Address\"], axis=1, inplace=True)"
   ]
  },
  {
   "cell_type": "code",
   "execution_count": 6,
   "metadata": {},
   "outputs": [],
   "source": [
    "data.drop(labels=[\"Avatar\"], axis=1, inplace=True)"
   ]
  },
  {
   "cell_type": "code",
   "execution_count": 7,
   "metadata": {},
   "outputs": [
    {
     "data": {
      "text/html": [
       "<div>\n",
       "<style scoped>\n",
       "    .dataframe tbody tr th:only-of-type {\n",
       "        vertical-align: middle;\n",
       "    }\n",
       "\n",
       "    .dataframe tbody tr th {\n",
       "        vertical-align: top;\n",
       "    }\n",
       "\n",
       "    .dataframe thead th {\n",
       "        text-align: right;\n",
       "    }\n",
       "</style>\n",
       "<table border=\"1\" class=\"dataframe\">\n",
       "  <thead>\n",
       "    <tr style=\"text-align: right;\">\n",
       "      <th></th>\n",
       "      <th>Avg. Session Length</th>\n",
       "      <th>Time on App</th>\n",
       "      <th>Time on Website</th>\n",
       "      <th>Length of Membership</th>\n",
       "      <th>Yearly Amount Spent</th>\n",
       "    </tr>\n",
       "  </thead>\n",
       "  <tbody>\n",
       "    <tr>\n",
       "      <th>0</th>\n",
       "      <td>34.497268</td>\n",
       "      <td>12.655651</td>\n",
       "      <td>39.577668</td>\n",
       "      <td>4.082621</td>\n",
       "      <td>587.951054</td>\n",
       "    </tr>\n",
       "    <tr>\n",
       "      <th>1</th>\n",
       "      <td>31.926272</td>\n",
       "      <td>11.109461</td>\n",
       "      <td>37.268959</td>\n",
       "      <td>2.664034</td>\n",
       "      <td>392.204933</td>\n",
       "    </tr>\n",
       "    <tr>\n",
       "      <th>2</th>\n",
       "      <td>33.000915</td>\n",
       "      <td>11.330278</td>\n",
       "      <td>37.110597</td>\n",
       "      <td>4.104543</td>\n",
       "      <td>487.547505</td>\n",
       "    </tr>\n",
       "    <tr>\n",
       "      <th>3</th>\n",
       "      <td>34.305557</td>\n",
       "      <td>13.717514</td>\n",
       "      <td>36.721283</td>\n",
       "      <td>3.120179</td>\n",
       "      <td>581.852344</td>\n",
       "    </tr>\n",
       "    <tr>\n",
       "      <th>4</th>\n",
       "      <td>33.330673</td>\n",
       "      <td>12.795189</td>\n",
       "      <td>37.536653</td>\n",
       "      <td>4.446308</td>\n",
       "      <td>599.406092</td>\n",
       "    </tr>\n",
       "    <tr>\n",
       "      <th>...</th>\n",
       "      <td>...</td>\n",
       "      <td>...</td>\n",
       "      <td>...</td>\n",
       "      <td>...</td>\n",
       "      <td>...</td>\n",
       "    </tr>\n",
       "    <tr>\n",
       "      <th>495</th>\n",
       "      <td>33.237660</td>\n",
       "      <td>13.566160</td>\n",
       "      <td>36.417985</td>\n",
       "      <td>3.746573</td>\n",
       "      <td>573.847438</td>\n",
       "    </tr>\n",
       "    <tr>\n",
       "      <th>496</th>\n",
       "      <td>34.702529</td>\n",
       "      <td>11.695736</td>\n",
       "      <td>37.190268</td>\n",
       "      <td>3.576526</td>\n",
       "      <td>529.049004</td>\n",
       "    </tr>\n",
       "    <tr>\n",
       "      <th>497</th>\n",
       "      <td>32.646777</td>\n",
       "      <td>11.499409</td>\n",
       "      <td>38.332576</td>\n",
       "      <td>4.958264</td>\n",
       "      <td>551.620145</td>\n",
       "    </tr>\n",
       "    <tr>\n",
       "      <th>498</th>\n",
       "      <td>33.322501</td>\n",
       "      <td>12.391423</td>\n",
       "      <td>36.840086</td>\n",
       "      <td>2.336485</td>\n",
       "      <td>456.469510</td>\n",
       "    </tr>\n",
       "    <tr>\n",
       "      <th>499</th>\n",
       "      <td>33.715981</td>\n",
       "      <td>12.418808</td>\n",
       "      <td>35.771016</td>\n",
       "      <td>2.735160</td>\n",
       "      <td>497.778642</td>\n",
       "    </tr>\n",
       "  </tbody>\n",
       "</table>\n",
       "<p>500 rows × 5 columns</p>\n",
       "</div>"
      ],
      "text/plain": [
       "     Avg. Session Length  Time on App  Time on Website  Length of Membership  \\\n",
       "0              34.497268    12.655651        39.577668              4.082621   \n",
       "1              31.926272    11.109461        37.268959              2.664034   \n",
       "2              33.000915    11.330278        37.110597              4.104543   \n",
       "3              34.305557    13.717514        36.721283              3.120179   \n",
       "4              33.330673    12.795189        37.536653              4.446308   \n",
       "..                   ...          ...              ...                   ...   \n",
       "495            33.237660    13.566160        36.417985              3.746573   \n",
       "496            34.702529    11.695736        37.190268              3.576526   \n",
       "497            32.646777    11.499409        38.332576              4.958264   \n",
       "498            33.322501    12.391423        36.840086              2.336485   \n",
       "499            33.715981    12.418808        35.771016              2.735160   \n",
       "\n",
       "     Yearly Amount Spent  \n",
       "0             587.951054  \n",
       "1             392.204933  \n",
       "2             487.547505  \n",
       "3             581.852344  \n",
       "4             599.406092  \n",
       "..                   ...  \n",
       "495           573.847438  \n",
       "496           529.049004  \n",
       "497           551.620145  \n",
       "498           456.469510  \n",
       "499           497.778642  \n",
       "\n",
       "[500 rows x 5 columns]"
      ]
     },
     "execution_count": 7,
     "metadata": {},
     "output_type": "execute_result"
    }
   ],
   "source": [
    "data"
   ]
  },
  {
   "cell_type": "markdown",
   "metadata": {},
   "source": [
    "## Independent Features"
   ]
  },
  {
   "cell_type": "code",
   "execution_count": 8,
   "metadata": {},
   "outputs": [
    {
     "data": {
      "text/html": [
       "<div>\n",
       "<style scoped>\n",
       "    .dataframe tbody tr th:only-of-type {\n",
       "        vertical-align: middle;\n",
       "    }\n",
       "\n",
       "    .dataframe tbody tr th {\n",
       "        vertical-align: top;\n",
       "    }\n",
       "\n",
       "    .dataframe thead th {\n",
       "        text-align: right;\n",
       "    }\n",
       "</style>\n",
       "<table border=\"1\" class=\"dataframe\">\n",
       "  <thead>\n",
       "    <tr style=\"text-align: right;\">\n",
       "      <th></th>\n",
       "      <th>Avg. Session Length</th>\n",
       "      <th>Time on App</th>\n",
       "      <th>Time on Website</th>\n",
       "      <th>Length of Membership</th>\n",
       "    </tr>\n",
       "  </thead>\n",
       "  <tbody>\n",
       "    <tr>\n",
       "      <th>0</th>\n",
       "      <td>34.497268</td>\n",
       "      <td>12.655651</td>\n",
       "      <td>39.577668</td>\n",
       "      <td>4.082621</td>\n",
       "    </tr>\n",
       "    <tr>\n",
       "      <th>1</th>\n",
       "      <td>31.926272</td>\n",
       "      <td>11.109461</td>\n",
       "      <td>37.268959</td>\n",
       "      <td>2.664034</td>\n",
       "    </tr>\n",
       "    <tr>\n",
       "      <th>2</th>\n",
       "      <td>33.000915</td>\n",
       "      <td>11.330278</td>\n",
       "      <td>37.110597</td>\n",
       "      <td>4.104543</td>\n",
       "    </tr>\n",
       "    <tr>\n",
       "      <th>3</th>\n",
       "      <td>34.305557</td>\n",
       "      <td>13.717514</td>\n",
       "      <td>36.721283</td>\n",
       "      <td>3.120179</td>\n",
       "    </tr>\n",
       "    <tr>\n",
       "      <th>4</th>\n",
       "      <td>33.330673</td>\n",
       "      <td>12.795189</td>\n",
       "      <td>37.536653</td>\n",
       "      <td>4.446308</td>\n",
       "    </tr>\n",
       "    <tr>\n",
       "      <th>...</th>\n",
       "      <td>...</td>\n",
       "      <td>...</td>\n",
       "      <td>...</td>\n",
       "      <td>...</td>\n",
       "    </tr>\n",
       "    <tr>\n",
       "      <th>495</th>\n",
       "      <td>33.237660</td>\n",
       "      <td>13.566160</td>\n",
       "      <td>36.417985</td>\n",
       "      <td>3.746573</td>\n",
       "    </tr>\n",
       "    <tr>\n",
       "      <th>496</th>\n",
       "      <td>34.702529</td>\n",
       "      <td>11.695736</td>\n",
       "      <td>37.190268</td>\n",
       "      <td>3.576526</td>\n",
       "    </tr>\n",
       "    <tr>\n",
       "      <th>497</th>\n",
       "      <td>32.646777</td>\n",
       "      <td>11.499409</td>\n",
       "      <td>38.332576</td>\n",
       "      <td>4.958264</td>\n",
       "    </tr>\n",
       "    <tr>\n",
       "      <th>498</th>\n",
       "      <td>33.322501</td>\n",
       "      <td>12.391423</td>\n",
       "      <td>36.840086</td>\n",
       "      <td>2.336485</td>\n",
       "    </tr>\n",
       "    <tr>\n",
       "      <th>499</th>\n",
       "      <td>33.715981</td>\n",
       "      <td>12.418808</td>\n",
       "      <td>35.771016</td>\n",
       "      <td>2.735160</td>\n",
       "    </tr>\n",
       "  </tbody>\n",
       "</table>\n",
       "<p>500 rows × 4 columns</p>\n",
       "</div>"
      ],
      "text/plain": [
       "     Avg. Session Length  Time on App  Time on Website  Length of Membership\n",
       "0              34.497268    12.655651        39.577668              4.082621\n",
       "1              31.926272    11.109461        37.268959              2.664034\n",
       "2              33.000915    11.330278        37.110597              4.104543\n",
       "3              34.305557    13.717514        36.721283              3.120179\n",
       "4              33.330673    12.795189        37.536653              4.446308\n",
       "..                   ...          ...              ...                   ...\n",
       "495            33.237660    13.566160        36.417985              3.746573\n",
       "496            34.702529    11.695736        37.190268              3.576526\n",
       "497            32.646777    11.499409        38.332576              4.958264\n",
       "498            33.322501    12.391423        36.840086              2.336485\n",
       "499            33.715981    12.418808        35.771016              2.735160\n",
       "\n",
       "[500 rows x 4 columns]"
      ]
     },
     "execution_count": 8,
     "metadata": {},
     "output_type": "execute_result"
    }
   ],
   "source": [
    "X = data.drop(labels=[\"Yearly Amount Spent\"], axis=1)\n",
    "X"
   ]
  },
  {
   "cell_type": "code",
   "execution_count": 9,
   "metadata": {},
   "outputs": [
    {
     "data": {
      "text/plain": [
       "0      587.951054\n",
       "1      392.204933\n",
       "2      487.547505\n",
       "3      581.852344\n",
       "4      599.406092\n",
       "          ...    \n",
       "495    573.847438\n",
       "496    529.049004\n",
       "497    551.620145\n",
       "498    456.469510\n",
       "499    497.778642\n",
       "Name: Yearly Amount Spent, Length: 500, dtype: float64"
      ]
     },
     "execution_count": 9,
     "metadata": {},
     "output_type": "execute_result"
    }
   ],
   "source": [
    "Y = data[\"Yearly Amount Spent\"]\n",
    "Y"
   ]
  },
  {
   "cell_type": "markdown",
   "metadata": {},
   "source": [
    "## Seggregation of Categorical and Numerical Column, but we have Only Numerical Data"
   ]
  },
  {
   "cell_type": "code",
   "execution_count": 10,
   "metadata": {},
   "outputs": [
    {
     "data": {
      "text/plain": [
       "Index([], dtype='object')"
      ]
     },
     "execution_count": 10,
     "metadata": {},
     "output_type": "execute_result"
    }
   ],
   "source": [
    "X.select_dtypes(include=\"object\").columns\n",
    "# No categorical Columns"
   ]
  },
  {
   "cell_type": "code",
   "execution_count": 11,
   "metadata": {},
   "outputs": [
    {
     "data": {
      "text/plain": [
       "Index([], dtype='object')"
      ]
     },
     "execution_count": 11,
     "metadata": {},
     "output_type": "execute_result"
    }
   ],
   "source": [
    "# Categorical Column\n",
    "Categorical_columns = X.select_dtypes(include=\"object\").columns\n",
    "Categorical_columns"
   ]
  },
  {
   "cell_type": "code",
   "execution_count": 12,
   "metadata": {},
   "outputs": [
    {
     "data": {
      "text/plain": [
       "Index(['Avg. Session Length', 'Time on App', 'Time on Website',\n",
       "       'Length of Membership'],\n",
       "      dtype='object')"
      ]
     },
     "execution_count": 12,
     "metadata": {},
     "output_type": "execute_result"
    }
   ],
   "source": [
    "# Numerical Column\n",
    "Numerical_columns = X.select_dtypes(exclude=\"object\").columns\n",
    "Numerical_columns"
   ]
  },
  {
   "cell_type": "code",
   "execution_count": 13,
   "metadata": {},
   "outputs": [
    {
     "data": {
      "text/html": [
       "<div>\n",
       "<style scoped>\n",
       "    .dataframe tbody tr th:only-of-type {\n",
       "        vertical-align: middle;\n",
       "    }\n",
       "\n",
       "    .dataframe tbody tr th {\n",
       "        vertical-align: top;\n",
       "    }\n",
       "\n",
       "    .dataframe thead th {\n",
       "        text-align: right;\n",
       "    }\n",
       "</style>\n",
       "<table border=\"1\" class=\"dataframe\">\n",
       "  <thead>\n",
       "    <tr style=\"text-align: right;\">\n",
       "      <th></th>\n",
       "      <th>Avg. Session Length</th>\n",
       "      <th>Time on App</th>\n",
       "      <th>Time on Website</th>\n",
       "      <th>Length of Membership</th>\n",
       "    </tr>\n",
       "  </thead>\n",
       "  <tbody>\n",
       "    <tr>\n",
       "      <th>0</th>\n",
       "      <td>34.497268</td>\n",
       "      <td>12.655651</td>\n",
       "      <td>39.577668</td>\n",
       "      <td>4.082621</td>\n",
       "    </tr>\n",
       "    <tr>\n",
       "      <th>1</th>\n",
       "      <td>31.926272</td>\n",
       "      <td>11.109461</td>\n",
       "      <td>37.268959</td>\n",
       "      <td>2.664034</td>\n",
       "    </tr>\n",
       "    <tr>\n",
       "      <th>2</th>\n",
       "      <td>33.000915</td>\n",
       "      <td>11.330278</td>\n",
       "      <td>37.110597</td>\n",
       "      <td>4.104543</td>\n",
       "    </tr>\n",
       "    <tr>\n",
       "      <th>3</th>\n",
       "      <td>34.305557</td>\n",
       "      <td>13.717514</td>\n",
       "      <td>36.721283</td>\n",
       "      <td>3.120179</td>\n",
       "    </tr>\n",
       "    <tr>\n",
       "      <th>4</th>\n",
       "      <td>33.330673</td>\n",
       "      <td>12.795189</td>\n",
       "      <td>37.536653</td>\n",
       "      <td>4.446308</td>\n",
       "    </tr>\n",
       "    <tr>\n",
       "      <th>...</th>\n",
       "      <td>...</td>\n",
       "      <td>...</td>\n",
       "      <td>...</td>\n",
       "      <td>...</td>\n",
       "    </tr>\n",
       "    <tr>\n",
       "      <th>495</th>\n",
       "      <td>33.237660</td>\n",
       "      <td>13.566160</td>\n",
       "      <td>36.417985</td>\n",
       "      <td>3.746573</td>\n",
       "    </tr>\n",
       "    <tr>\n",
       "      <th>496</th>\n",
       "      <td>34.702529</td>\n",
       "      <td>11.695736</td>\n",
       "      <td>37.190268</td>\n",
       "      <td>3.576526</td>\n",
       "    </tr>\n",
       "    <tr>\n",
       "      <th>497</th>\n",
       "      <td>32.646777</td>\n",
       "      <td>11.499409</td>\n",
       "      <td>38.332576</td>\n",
       "      <td>4.958264</td>\n",
       "    </tr>\n",
       "    <tr>\n",
       "      <th>498</th>\n",
       "      <td>33.322501</td>\n",
       "      <td>12.391423</td>\n",
       "      <td>36.840086</td>\n",
       "      <td>2.336485</td>\n",
       "    </tr>\n",
       "    <tr>\n",
       "      <th>499</th>\n",
       "      <td>33.715981</td>\n",
       "      <td>12.418808</td>\n",
       "      <td>35.771016</td>\n",
       "      <td>2.735160</td>\n",
       "    </tr>\n",
       "  </tbody>\n",
       "</table>\n",
       "<p>500 rows × 4 columns</p>\n",
       "</div>"
      ],
      "text/plain": [
       "     Avg. Session Length  Time on App  Time on Website  Length of Membership\n",
       "0              34.497268    12.655651        39.577668              4.082621\n",
       "1              31.926272    11.109461        37.268959              2.664034\n",
       "2              33.000915    11.330278        37.110597              4.104543\n",
       "3              34.305557    13.717514        36.721283              3.120179\n",
       "4              33.330673    12.795189        37.536653              4.446308\n",
       "..                   ...          ...              ...                   ...\n",
       "495            33.237660    13.566160        36.417985              3.746573\n",
       "496            34.702529    11.695736        37.190268              3.576526\n",
       "497            32.646777    11.499409        38.332576              4.958264\n",
       "498            33.322501    12.391423        36.840086              2.336485\n",
       "499            33.715981    12.418808        35.771016              2.735160\n",
       "\n",
       "[500 rows x 4 columns]"
      ]
     },
     "execution_count": 13,
     "metadata": {},
     "output_type": "execute_result"
    }
   ],
   "source": [
    "X.select_dtypes(exclude=\"object\")"
   ]
  },
  {
   "cell_type": "markdown",
   "metadata": {},
   "source": [
    "## Scaling, Encoding and Data Transformation"
   ]
  },
  {
   "cell_type": "code",
   "execution_count": 29,
   "metadata": {},
   "outputs": [],
   "source": [
    "from sklearn.impute import SimpleImputer ## HAndling Missing Values\n",
    "from sklearn.preprocessing import StandardScaler # HAndling Feature Scaling\n",
    "from sklearn.preprocessing import OrdinalEncoder # Ordinal Encoding\n",
    "## pipelines\n",
    "from sklearn.pipeline import Pipeline\n",
    "from sklearn.compose import TransformedTargetRegressor\n",
    "from sklearn.ensemble import RandomForestClassifier"
   ]
  },
  {
   "cell_type": "code",
   "execution_count": 16,
   "metadata": {},
   "outputs": [],
   "source": [
    "num_pipeline = Pipeline(\n",
    "    \n",
    "    steps=[\n",
    "        ('imputer',SimpleImputer()),   # imputer is the name given, u can remove it as well\n",
    "        ('scaler', StandardScaler())  #Feature scaling\n",
    "        \n",
    "    ]\n",
    ")"
   ]
  },
  {
   "cell_type": "markdown",
   "metadata": {},
   "source": [
    "Preprocessor for numerical data"
   ]
  },
  {
   "cell_type": "code",
   "execution_count": 40,
   "metadata": {},
   "outputs": [],
   "source": [
    "preprocessor_pipeline = Pipeline(steps=[\n",
    "    ('preprocessor', num_pipeline),\n",
    "    ('classifier', RandomForestClassifier())\n",
    "])\n"
   ]
  },
  {
   "cell_type": "markdown",
   "metadata": {},
   "source": [
    "## Splitting the Data into Train and Test"
   ]
  },
  {
   "cell_type": "code",
   "execution_count": 33,
   "metadata": {},
   "outputs": [],
   "source": [
    "## Train test split\n",
    "from sklearn.model_selection import train_test_split\n",
    "\n",
    "X_train,X_test,y_train,y_test=train_test_split(X,Y,test_size=0.30,random_state=30)"
   ]
  },
  {
   "cell_type": "code",
   "execution_count": 34,
   "metadata": {},
   "outputs": [
    {
     "data": {
      "text/html": [
       "<div>\n",
       "<style scoped>\n",
       "    .dataframe tbody tr th:only-of-type {\n",
       "        vertical-align: middle;\n",
       "    }\n",
       "\n",
       "    .dataframe tbody tr th {\n",
       "        vertical-align: top;\n",
       "    }\n",
       "\n",
       "    .dataframe thead th {\n",
       "        text-align: right;\n",
       "    }\n",
       "</style>\n",
       "<table border=\"1\" class=\"dataframe\">\n",
       "  <thead>\n",
       "    <tr style=\"text-align: right;\">\n",
       "      <th></th>\n",
       "      <th>Avg. Session Length</th>\n",
       "      <th>Time on App</th>\n",
       "      <th>Time on Website</th>\n",
       "      <th>Length of Membership</th>\n",
       "    </tr>\n",
       "  </thead>\n",
       "  <tbody>\n",
       "    <tr>\n",
       "      <th>12</th>\n",
       "      <td>29.532429</td>\n",
       "      <td>10.961298</td>\n",
       "      <td>37.420216</td>\n",
       "      <td>4.046423</td>\n",
       "    </tr>\n",
       "    <tr>\n",
       "      <th>136</th>\n",
       "      <td>32.686129</td>\n",
       "      <td>12.215252</td>\n",
       "      <td>36.594362</td>\n",
       "      <td>3.897116</td>\n",
       "    </tr>\n",
       "    <tr>\n",
       "      <th>368</th>\n",
       "      <td>34.385820</td>\n",
       "      <td>12.729720</td>\n",
       "      <td>36.232110</td>\n",
       "      <td>5.705941</td>\n",
       "    </tr>\n",
       "    <tr>\n",
       "      <th>367</th>\n",
       "      <td>32.990599</td>\n",
       "      <td>10.441235</td>\n",
       "      <td>35.938963</td>\n",
       "      <td>2.895075</td>\n",
       "    </tr>\n",
       "    <tr>\n",
       "      <th>406</th>\n",
       "      <td>32.865301</td>\n",
       "      <td>12.074830</td>\n",
       "      <td>35.569170</td>\n",
       "      <td>2.399080</td>\n",
       "    </tr>\n",
       "    <tr>\n",
       "      <th>...</th>\n",
       "      <td>...</td>\n",
       "      <td>...</td>\n",
       "      <td>...</td>\n",
       "      <td>...</td>\n",
       "    </tr>\n",
       "    <tr>\n",
       "      <th>140</th>\n",
       "      <td>31.066218</td>\n",
       "      <td>11.735095</td>\n",
       "      <td>36.599374</td>\n",
       "      <td>3.958892</td>\n",
       "    </tr>\n",
       "    <tr>\n",
       "      <th>301</th>\n",
       "      <td>33.026420</td>\n",
       "      <td>13.186813</td>\n",
       "      <td>38.066930</td>\n",
       "      <td>2.898300</td>\n",
       "    </tr>\n",
       "    <tr>\n",
       "      <th>429</th>\n",
       "      <td>33.292587</td>\n",
       "      <td>11.906508</td>\n",
       "      <td>38.422865</td>\n",
       "      <td>3.376687</td>\n",
       "    </tr>\n",
       "    <tr>\n",
       "      <th>421</th>\n",
       "      <td>31.574138</td>\n",
       "      <td>12.941556</td>\n",
       "      <td>36.725277</td>\n",
       "      <td>4.560396</td>\n",
       "    </tr>\n",
       "    <tr>\n",
       "      <th>293</th>\n",
       "      <td>33.794756</td>\n",
       "      <td>10.982806</td>\n",
       "      <td>34.810631</td>\n",
       "      <td>3.201802</td>\n",
       "    </tr>\n",
       "  </tbody>\n",
       "</table>\n",
       "<p>350 rows × 4 columns</p>\n",
       "</div>"
      ],
      "text/plain": [
       "     Avg. Session Length  Time on App  Time on Website  Length of Membership\n",
       "12             29.532429    10.961298        37.420216              4.046423\n",
       "136            32.686129    12.215252        36.594362              3.897116\n",
       "368            34.385820    12.729720        36.232110              5.705941\n",
       "367            32.990599    10.441235        35.938963              2.895075\n",
       "406            32.865301    12.074830        35.569170              2.399080\n",
       "..                   ...          ...              ...                   ...\n",
       "140            31.066218    11.735095        36.599374              3.958892\n",
       "301            33.026420    13.186813        38.066930              2.898300\n",
       "429            33.292587    11.906508        38.422865              3.376687\n",
       "421            31.574138    12.941556        36.725277              4.560396\n",
       "293            33.794756    10.982806        34.810631              3.201802\n",
       "\n",
       "[350 rows x 4 columns]"
      ]
     },
     "execution_count": 34,
     "metadata": {},
     "output_type": "execute_result"
    }
   ],
   "source": [
    "X_train"
   ]
  },
  {
   "cell_type": "code",
   "execution_count": 55,
   "metadata": {},
   "outputs": [
    {
     "data": {
      "text/plain": [
       "array([[-3.42640671, -1.09520731,  0.37593714,  0.53573786],\n",
       "       [-0.30305665,  0.1395892 , -0.44830155,  0.39291239],\n",
       "       [ 1.38027709,  0.64619642, -0.80984495,  2.1232112 ],\n",
       "       ...,\n",
       "       [ 0.29756504, -0.16443856,  1.37662589, -0.10492274],\n",
       "       [-1.40434643,  0.85479627, -0.31764245,  1.02739779],\n",
       "       [ 0.79490096, -1.07402876, -2.22854319, -0.27221625]])"
      ]
     },
     "execution_count": 55,
     "metadata": {},
     "output_type": "execute_result"
    }
   ],
   "source": [
    "preprocessor_pipeline['preprocessor'].fit_transform(X_train)\n"
   ]
  },
  {
   "cell_type": "markdown",
   "metadata": {},
   "source": [
    "## Train data Fit Transform"
   ]
  },
  {
   "cell_type": "code",
   "execution_count": 42,
   "metadata": {},
   "outputs": [],
   "source": [
    "X_train_transformed = preprocessor_pipeline['preprocessor'].fit_transform(X_train)\n"
   ]
  },
  {
   "cell_type": "markdown",
   "metadata": {},
   "source": [
    "## Test data Transform"
   ]
  },
  {
   "cell_type": "code",
   "execution_count": 43,
   "metadata": {},
   "outputs": [],
   "source": [
    "X_test_transformed = preprocessor_pipeline['preprocessor'].transform(X_test)"
   ]
  },
  {
   "cell_type": "code",
   "execution_count": 57,
   "metadata": {},
   "outputs": [
    {
     "data": {
      "text/html": [
       "<div>\n",
       "<style scoped>\n",
       "    .dataframe tbody tr th:only-of-type {\n",
       "        vertical-align: middle;\n",
       "    }\n",
       "\n",
       "    .dataframe tbody tr th {\n",
       "        vertical-align: top;\n",
       "    }\n",
       "\n",
       "    .dataframe thead th {\n",
       "        text-align: right;\n",
       "    }\n",
       "</style>\n",
       "<table border=\"1\" class=\"dataframe\">\n",
       "  <thead>\n",
       "    <tr style=\"text-align: right;\">\n",
       "      <th></th>\n",
       "      <th>Avg. Session Length</th>\n",
       "      <th>Time on App</th>\n",
       "      <th>Time on Website</th>\n",
       "      <th>Length of Membership</th>\n",
       "    </tr>\n",
       "  </thead>\n",
       "  <tbody>\n",
       "    <tr>\n",
       "      <th>12</th>\n",
       "      <td>29.532429</td>\n",
       "      <td>10.961298</td>\n",
       "      <td>37.420216</td>\n",
       "      <td>4.046423</td>\n",
       "    </tr>\n",
       "    <tr>\n",
       "      <th>136</th>\n",
       "      <td>32.686129</td>\n",
       "      <td>12.215252</td>\n",
       "      <td>36.594362</td>\n",
       "      <td>3.897116</td>\n",
       "    </tr>\n",
       "    <tr>\n",
       "      <th>368</th>\n",
       "      <td>34.385820</td>\n",
       "      <td>12.729720</td>\n",
       "      <td>36.232110</td>\n",
       "      <td>5.705941</td>\n",
       "    </tr>\n",
       "    <tr>\n",
       "      <th>367</th>\n",
       "      <td>32.990599</td>\n",
       "      <td>10.441235</td>\n",
       "      <td>35.938963</td>\n",
       "      <td>2.895075</td>\n",
       "    </tr>\n",
       "    <tr>\n",
       "      <th>406</th>\n",
       "      <td>32.865301</td>\n",
       "      <td>12.074830</td>\n",
       "      <td>35.569170</td>\n",
       "      <td>2.399080</td>\n",
       "    </tr>\n",
       "    <tr>\n",
       "      <th>...</th>\n",
       "      <td>...</td>\n",
       "      <td>...</td>\n",
       "      <td>...</td>\n",
       "      <td>...</td>\n",
       "    </tr>\n",
       "    <tr>\n",
       "      <th>140</th>\n",
       "      <td>31.066218</td>\n",
       "      <td>11.735095</td>\n",
       "      <td>36.599374</td>\n",
       "      <td>3.958892</td>\n",
       "    </tr>\n",
       "    <tr>\n",
       "      <th>301</th>\n",
       "      <td>33.026420</td>\n",
       "      <td>13.186813</td>\n",
       "      <td>38.066930</td>\n",
       "      <td>2.898300</td>\n",
       "    </tr>\n",
       "    <tr>\n",
       "      <th>429</th>\n",
       "      <td>33.292587</td>\n",
       "      <td>11.906508</td>\n",
       "      <td>38.422865</td>\n",
       "      <td>3.376687</td>\n",
       "    </tr>\n",
       "    <tr>\n",
       "      <th>421</th>\n",
       "      <td>31.574138</td>\n",
       "      <td>12.941556</td>\n",
       "      <td>36.725277</td>\n",
       "      <td>4.560396</td>\n",
       "    </tr>\n",
       "    <tr>\n",
       "      <th>293</th>\n",
       "      <td>33.794756</td>\n",
       "      <td>10.982806</td>\n",
       "      <td>34.810631</td>\n",
       "      <td>3.201802</td>\n",
       "    </tr>\n",
       "  </tbody>\n",
       "</table>\n",
       "<p>350 rows × 4 columns</p>\n",
       "</div>"
      ],
      "text/plain": [
       "     Avg. Session Length  Time on App  Time on Website  Length of Membership\n",
       "12             29.532429    10.961298        37.420216              4.046423\n",
       "136            32.686129    12.215252        36.594362              3.897116\n",
       "368            34.385820    12.729720        36.232110              5.705941\n",
       "367            32.990599    10.441235        35.938963              2.895075\n",
       "406            32.865301    12.074830        35.569170              2.399080\n",
       "..                   ...          ...              ...                   ...\n",
       "140            31.066218    11.735095        36.599374              3.958892\n",
       "301            33.026420    13.186813        38.066930              2.898300\n",
       "429            33.292587    11.906508        38.422865              3.376687\n",
       "421            31.574138    12.941556        36.725277              4.560396\n",
       "293            33.794756    10.982806        34.810631              3.201802\n",
       "\n",
       "[350 rows x 4 columns]"
      ]
     },
     "execution_count": 57,
     "metadata": {},
     "output_type": "execute_result"
    }
   ],
   "source": [
    "X_train"
   ]
  },
  {
   "cell_type": "code",
   "execution_count": 60,
   "metadata": {},
   "outputs": [
    {
     "data": {
      "text/plain": [
       "(350, 4)"
      ]
     },
     "execution_count": 60,
     "metadata": {},
     "output_type": "execute_result"
    }
   ],
   "source": [
    "X_train_transformed.shape"
   ]
  },
  {
   "cell_type": "code",
   "execution_count": 61,
   "metadata": {},
   "outputs": [
    {
     "data": {
      "text/plain": [
       "array([[-3.42640671, -1.09520731,  0.37593714,  0.53573786],\n",
       "       [-0.30305665,  0.1395892 , -0.44830155,  0.39291239],\n",
       "       [ 1.38027709,  0.64619642, -0.80984495,  2.1232112 ],\n",
       "       ...,\n",
       "       [ 0.29756504, -0.16443856,  1.37662589, -0.10492274],\n",
       "       [-1.40434643,  0.85479627, -0.31764245,  1.02739779],\n",
       "       [ 0.79490096, -1.07402876, -2.22854319, -0.27221625]])"
      ]
     },
     "execution_count": 61,
     "metadata": {},
     "output_type": "execute_result"
    }
   ],
   "source": [
    "X_train_transformed"
   ]
  },
  {
   "cell_type": "code",
   "execution_count": 59,
   "metadata": {},
   "outputs": [
    {
     "data": {
      "text/plain": [
       "array([[ 5.06039199e-01,  7.92195474e-01,  3.96702211e-01,\n",
       "        -1.84355410e+00],\n",
       "       [-1.25912569e+00, -3.16247872e-01,  1.52707101e+00,\n",
       "         1.47081246e+00],\n",
       "       [ 4.41409524e-01,  5.13949037e-01, -7.79981469e-01,\n",
       "        -4.94298978e-01],\n",
       "       [ 5.54183254e-01,  8.37877527e-02, -4.67491855e-01,\n",
       "         1.88217872e+00],\n",
       "       [-1.44647064e+00,  1.28512687e+00,  1.68715836e+00,\n",
       "        -1.18733921e+00],\n",
       "       [ 4.64412731e-01, -1.18593430e+00, -1.41831995e+00,\n",
       "        -1.43091051e-02],\n",
       "       [ 1.51615605e+00, -6.57525766e-01, -6.63969596e-01,\n",
       "         5.30784462e-01],\n",
       "       [-7.23101143e-01, -4.21981077e-01, -1.66321744e-02,\n",
       "        -2.38801613e-01],\n",
       "       [ 7.95266393e-01, -4.45587864e-01,  1.37323577e+00,\n",
       "         1.02673106e+00],\n",
       "       [-4.88986119e-01,  1.31683139e+00, -1.05099323e+00,\n",
       "        -2.88653347e-01],\n",
       "       [ 5.02492507e-01, -1.24967814e-01, -5.56126867e-01,\n",
       "         4.31890246e-01],\n",
       "       [ 9.13012418e-01,  1.90057612e-01, -4.67594454e-01,\n",
       "        -4.42801850e-01],\n",
       "       [ 3.11724085e+00, -2.28753988e-02, -8.37344561e-02,\n",
       "         3.62057555e-01],\n",
       "       [ 1.49065198e+00,  5.73259653e-01,  2.52917007e+00,\n",
       "         5.70363895e-01],\n",
       "       [ 5.50270086e-01, -1.31769102e+00,  4.14021667e-01,\n",
       "         3.60684568e-01],\n",
       "       [-1.35361726e+00,  1.09738779e+00,  2.35021741e-02,\n",
       "        -1.90558022e+00],\n",
       "       [-4.54474566e-01,  2.01699323e+00,  1.36012195e+00,\n",
       "         1.75411502e+00],\n",
       "       [-7.54648581e-01, -9.74024985e-01,  9.14350801e-01,\n",
       "         1.18392547e+00],\n",
       "       [ 5.43816169e-01,  6.99541068e-01, -6.11693429e-01,\n",
       "         1.11138926e+00],\n",
       "       [-4.95865739e-01,  4.49880076e-01,  8.30050777e-01,\n",
       "        -9.66375914e-01],\n",
       "       [-1.85111603e-01, -2.34385035e-01, -6.67168234e-01,\n",
       "        -4.47504790e-02],\n",
       "       [-7.91936534e-01,  1.23278829e+00, -1.45961100e-01,\n",
       "         1.49567729e+00],\n",
       "       [ 1.83292801e-01, -4.43834403e-01, -1.07254427e+00,\n",
       "         1.41308773e-01],\n",
       "       [-2.00101090e+00, -3.36906241e-01, -9.67095457e-01,\n",
       "         8.99184496e-01],\n",
       "       [-3.20549756e-02, -5.19167052e-01, -9.54010950e-02,\n",
       "        -2.02128098e-01],\n",
       "       [ 8.63496108e-03, -8.29878900e-01, -4.81572017e-02,\n",
       "         2.82510462e-01],\n",
       "       [-1.12562612e-01,  9.44385568e-01,  8.25792076e-01,\n",
       "         1.15494530e+00],\n",
       "       [ 3.73619628e-01,  1.46710237e-01, -6.86960671e-01,\n",
       "        -3.76456823e-02],\n",
       "       [ 4.38167538e-04,  9.16643015e-01, -5.83859062e-02,\n",
       "         1.08481246e+00],\n",
       "       [ 4.45097173e-01, -8.24733088e-01,  9.05682223e-03,\n",
       "         3.99956242e-01],\n",
       "       [-3.52824307e-01,  1.03470232e-01, -1.36660768e+00,\n",
       "         6.17365242e-01],\n",
       "       [ 6.64872498e-02, -3.42277110e-01, -1.04239973e+00,\n",
       "         1.45252861e+00],\n",
       "       [-2.96014796e-01,  5.19197661e-01,  3.25937771e-01,\n",
       "        -1.85175022e-02],\n",
       "       [ 1.13965831e+00,  1.08740620e+00,  1.80895510e+00,\n",
       "        -2.44310571e-01],\n",
       "       [ 1.96295826e-01,  8.72196673e-01, -8.97117028e-01,\n",
       "         4.13408211e-01],\n",
       "       [ 1.20759605e+00, -1.28333800e+00, -2.38906004e+00,\n",
       "         1.43376457e+00],\n",
       "       [ 7.01933932e-01,  1.37672071e+00,  2.80464998e-02,\n",
       "        -1.05922472e+00],\n",
       "       [ 5.57657775e-01, -5.13706366e-01, -4.13896365e-01,\n",
       "        -6.20278710e-01],\n",
       "       [-5.84717128e-01,  1.55704628e-02,  1.26388941e+00,\n",
       "         3.70166382e-01],\n",
       "       [ 1.30733261e+00, -2.58894106e-01,  3.69867037e-01,\n",
       "        -9.68808448e-01],\n",
       "       [ 6.82177322e-01, -8.58606620e-01,  7.90357188e-01,\n",
       "        -1.22209596e+00],\n",
       "       [ 2.24433571e-02, -3.07553607e-01,  5.25592145e-01,\n",
       "         3.32698866e-01],\n",
       "       [-6.34487179e-01,  1.01589959e+00, -1.46582760e+00,\n",
       "         1.48390803e-01],\n",
       "       [-3.85644405e-01, -3.04328382e-01,  8.77442616e-01,\n",
       "         3.77225069e-02],\n",
       "       [ 6.74076972e-01,  1.32646843e+00,  7.18740206e-01,\n",
       "         1.25115904e+00],\n",
       "       [ 1.50639434e-01, -3.31316621e-01,  8.89903434e-01,\n",
       "        -1.23996644e+00],\n",
       "       [-1.45226638e+00, -7.22256013e-01, -4.02020661e-03,\n",
       "         3.10772456e-01],\n",
       "       [ 8.79111017e-01,  4.15645445e-01,  1.00709449e+00,\n",
       "         1.10289573e+00],\n",
       "       [ 8.35925498e-02, -2.42850529e+00, -5.48474389e-01,\n",
       "         1.52560185e+00],\n",
       "       [-5.31787003e-01,  6.75195970e-01, -4.43560173e-01,\n",
       "         6.16907619e-01],\n",
       "       [ 1.50083629e+00,  8.07641639e-01,  5.91055894e-01,\n",
       "         2.12245861e+00],\n",
       "       [ 2.69878834e-01, -1.32087323e+00, -8.95994216e-01,\n",
       "         5.74138306e-01],\n",
       "       [-1.19851112e-02, -8.59010473e-01,  6.44532202e-01,\n",
       "        -1.02693563e+00],\n",
       "       [ 8.79072073e-01,  1.49117342e+00,  1.21443188e+00,\n",
       "        -2.18349712e-01],\n",
       "       [-3.13925782e-01,  5.12741491e-01,  6.39081278e-01,\n",
       "        -8.74889071e-01],\n",
       "       [ 5.96040925e-01, -5.44483249e-01, -8.52738897e-01,\n",
       "         7.15941704e-02],\n",
       "       [-8.78230439e-02, -1.50746424e+00, -1.50672563e+00,\n",
       "        -3.77416793e-01],\n",
       "       [ 5.92596649e-01, -1.11414232e+00, -8.71340039e-01,\n",
       "        -6.71915325e-01],\n",
       "       [ 1.17595976e+00,  5.00288362e-01, -1.59614919e+00,\n",
       "        -3.34138771e-01],\n",
       "       [ 4.85086120e-01, -1.52461830e-01,  2.73627006e-01,\n",
       "        -1.43519240e-01],\n",
       "       [ 1.70462158e+00, -3.41593264e-02,  5.90600319e-01,\n",
       "         1.09633413e+00],\n",
       "       [-1.52981872e+00, -1.94173980e+00,  9.97955298e-01,\n",
       "         7.19281147e-01],\n",
       "       [-1.67748636e-02,  1.30077313e+00,  7.61942812e-01,\n",
       "         7.90854391e-02],\n",
       "       [ 6.00553843e-01, -4.79735058e-01,  2.04707380e+00,\n",
       "         1.12902754e-01],\n",
       "       [ 3.48986738e-01, -1.08683277e+00, -1.06687296e+00,\n",
       "        -8.21466413e-01],\n",
       "       [ 5.09015304e-01, -4.07344859e-01,  2.37385906e-01,\n",
       "         9.49260431e-01],\n",
       "       [ 1.04435901e+00,  3.94832208e-01, -2.00176288e+00,\n",
       "         5.44684624e-01],\n",
       "       [ 2.06479170e-01, -1.05874657e-01, -2.11591248e-01,\n",
       "         5.99436895e-02],\n",
       "       [-6.96693945e-01, -5.25698412e-02,  2.02688654e+00,\n",
       "         4.06871687e-01],\n",
       "       [ 2.41754277e+00, -1.58822966e-01, -9.52032457e-01,\n",
       "         4.92251804e-01],\n",
       "       [ 7.35947497e-02, -3.94153112e-01,  7.95554354e-01,\n",
       "        -7.26205166e-01],\n",
       "       [ 1.32573721e+00,  1.62376391e+00, -1.26794066e+00,\n",
       "        -5.52298553e-01],\n",
       "       [-1.12809405e+00,  7.47187139e-02,  2.81241359e-01,\n",
       "        -1.19149947e-01],\n",
       "       [ 1.26593522e-01,  8.66324233e-01, -9.24404101e-03,\n",
       "        -1.37275694e-02],\n",
       "       [ 1.59567485e+00,  1.31756784e-01, -3.12357347e+00,\n",
       "         3.28713742e+00],\n",
       "       [ 1.19179633e+00,  5.81670632e-01, -1.63593151e-02,\n",
       "         8.07393600e-01],\n",
       "       [-2.27464492e-01, -1.10401567e+00,  6.01571198e-01,\n",
       "         5.09955140e-01],\n",
       "       [ 6.32523635e-01, -3.33325526e-02,  1.87686736e+00,\n",
       "        -5.86736605e-01],\n",
       "       [-1.30552917e+00,  2.51743751e-01,  3.07690335e-02,\n",
       "         4.74553728e-01],\n",
       "       [ 1.29015543e-01, -5.55826060e-01,  2.09106234e-01,\n",
       "        -2.90842908e-01],\n",
       "       [-8.61395618e-01, -6.28217058e-01, -8.18380559e-01,\n",
       "         1.30714823e+00],\n",
       "       [-1.15159404e+00, -7.92936132e-01, -8.64069878e-02,\n",
       "        -7.81964332e-01],\n",
       "       [ 4.74855488e-01, -4.04951403e-01, -9.91358269e-01,\n",
       "         4.88704579e-01],\n",
       "       [-1.11644946e+00,  1.34897942e+00, -1.64903222e-01,\n",
       "        -1.07643329e+00],\n",
       "       [ 7.92210235e-01,  4.27396896e-01,  9.91259972e-02,\n",
       "         6.96513316e-01],\n",
       "       [ 1.32981171e+00, -9.49312889e-01,  1.53929658e+00,\n",
       "         3.88871405e-01],\n",
       "       [ 1.00531237e+00,  4.14396158e-01, -9.96130279e-01,\n",
       "         8.07687290e-01],\n",
       "       [ 3.09201275e-01,  6.09704502e-01,  2.89481601e-01,\n",
       "         3.26200050e-01],\n",
       "       [ 1.11460508e+00, -4.74267746e-01,  6.98708757e-01,\n",
       "         1.83872765e-01],\n",
       "       [ 6.14461733e-01, -5.93721122e-01,  1.81115365e-02,\n",
       "         3.02415009e-01],\n",
       "       [ 4.88640769e-01, -1.83308261e-01, -1.17878469e+00,\n",
       "        -2.67476384e-01],\n",
       "       [-8.50008654e-01, -4.53806098e-01,  2.20094914e+00,\n",
       "        -1.31173524e-01],\n",
       "       [ 1.52966435e+00,  6.68211957e-01, -3.28759654e-01,\n",
       "        -1.93908360e-01],\n",
       "       [ 2.51434101e+00, -6.83633972e-01, -4.06640757e-01,\n",
       "         5.19505207e-01],\n",
       "       [-7.29144322e-01, -1.56865350e+00,  2.94550676e-01,\n",
       "         9.83133025e-01],\n",
       "       [ 1.04862627e+00, -6.74389997e-01,  2.03403706e+00,\n",
       "        -1.00385517e+00],\n",
       "       [-1.12989819e+00,  3.40186546e-01, -1.06380537e+00,\n",
       "        -2.24444237e-01],\n",
       "       [ 1.30078586e+00,  1.61889937e+00, -3.21628789e-01,\n",
       "        -3.50295714e-01],\n",
       "       [ 1.19677929e+00,  5.85231637e-01,  4.42640103e-01,\n",
       "         2.05905732e-01],\n",
       "       [ 2.71533596e-02, -1.41695261e+00,  4.52262145e-01,\n",
       "         1.10940019e+00],\n",
       "       [ 7.06120509e-01, -1.88113324e+00,  7.18092155e-01,\n",
       "         1.23648630e+00],\n",
       "       [ 6.08804177e-01,  1.38428529e-01,  1.54583160e-01,\n",
       "        -5.55904982e-01],\n",
       "       [ 1.15087053e-01,  8.06366433e-01, -5.15143946e-01,\n",
       "         1.05965467e+00],\n",
       "       [ 1.56137785e+00, -6.84786190e-01,  1.25846334e+00,\n",
       "         2.85598847e-01],\n",
       "       [ 1.36493294e+00, -1.82860101e-01,  8.16305871e-01,\n",
       "        -4.20660928e-01],\n",
       "       [-2.40426319e-01, -2.08615547e+00,  3.44098826e-01,\n",
       "         1.11358171e+00],\n",
       "       [ 9.74482562e-01, -4.09113447e-01,  3.80990345e-01,\n",
       "        -1.33924493e+00],\n",
       "       [-6.49826636e-01,  9.20047613e-01,  8.06656690e-01,\n",
       "        -4.68734854e-01],\n",
       "       [ 1.44173107e+00, -1.44338004e+00, -2.24007255e-01,\n",
       "        -1.14702659e-01],\n",
       "       [ 6.96003670e-01, -8.57523410e-01, -1.54654701e+00,\n",
       "         5.06622666e-01],\n",
       "       [ 7.62528819e-01, -2.05706832e+00, -1.10792133e+00,\n",
       "         3.53076105e-01],\n",
       "       [-1.91222414e+00,  2.79799559e-01, -8.75783899e-01,\n",
       "         5.76782794e-01],\n",
       "       [-5.37387308e-01,  1.36307961e+00,  1.94882040e-01,\n",
       "        -5.21302932e-01],\n",
       "       [ 3.09295031e-01,  3.00333103e-01,  1.71739000e+00,\n",
       "         3.41957918e-01],\n",
       "       [-3.31639567e-01, -1.13808764e-01, -4.08089708e-01,\n",
       "         5.92781056e-01],\n",
       "       [ 6.17902833e-01, -1.35016300e-01,  1.72172533e+00,\n",
       "         1.55841658e-01],\n",
       "       [-5.97869525e-01, -1.04677499e+00,  1.36881748e+00,\n",
       "         5.46929752e-02],\n",
       "       [-5.79352782e-01,  1.70878976e+00,  3.82477668e-01,\n",
       "         1.48613800e+00],\n",
       "       [-2.62792564e-01,  9.01033336e-01, -5.80401113e-01,\n",
       "         5.99640716e-01],\n",
       "       [ 6.78110756e-01, -1.08526750e+00,  6.77497734e-01,\n",
       "         1.36761337e-01],\n",
       "       [-5.77955700e-01, -1.07113897e+00,  3.24214166e-01,\n",
       "         1.76600726e-02],\n",
       "       [ 1.60485546e-01, -1.83161703e-01, -7.77018379e-01,\n",
       "        -8.45704286e-01],\n",
       "       [-1.01494737e+00, -5.82867371e-01,  2.19312541e+00,\n",
       "         4.41419271e-02],\n",
       "       [ 4.35865233e-01, -1.19534359e+00,  1.78862332e+00,\n",
       "         1.74915485e-01],\n",
       "       [-2.18294549e-01, -5.24527214e-01,  4.81934880e-01,\n",
       "        -5.37938013e-01],\n",
       "       [-6.43085546e-01, -6.53710788e-01, -1.26328401e+00,\n",
       "         3.69300167e-01],\n",
       "       [-2.62263111e-01,  9.25518930e-01, -3.91496636e-01,\n",
       "        -1.06996554e+00],\n",
       "       [-3.79163724e-01, -1.51272058e+00, -1.31042141e+00,\n",
       "         4.09431514e-01],\n",
       "       [ 9.90814061e-01,  1.24614434e+00,  1.81907923e-01,\n",
       "        -9.60188019e-01],\n",
       "       [ 1.43039562e+00,  1.23284433e+00, -2.74400924e-01,\n",
       "        -1.10116426e-01],\n",
       "       [-1.70743506e+00,  5.81100132e-02, -1.58364025e+00,\n",
       "        -3.96310088e-01],\n",
       "       [ 2.34364134e-01,  6.02548003e-01, -9.92610347e-01,\n",
       "        -1.28849332e+00],\n",
       "       [ 1.27373992e+00, -2.46944520e-01, -7.33558946e-01,\n",
       "        -1.30955782e+00],\n",
       "       [ 1.43133618e-01,  1.79004387e+00,  2.17291313e+00,\n",
       "        -5.54129008e-01],\n",
       "       [ 1.33363937e+00, -1.33640841e+00,  1.26119081e+00,\n",
       "        -7.97998139e-01],\n",
       "       [ 7.80442275e-01, -1.53480155e-01, -1.98419097e-01,\n",
       "         1.42171881e-01],\n",
       "       [ 1.00022080e+00, -2.15472622e-01,  4.47473594e-01,\n",
       "        -6.93057053e-01],\n",
       "       [ 3.06769897e-01,  4.61818531e-01,  1.26534356e+00,\n",
       "         2.69939373e-01],\n",
       "       [-9.52327098e-01,  5.61985537e-01,  9.56411525e-01,\n",
       "         1.48437045e+00],\n",
       "       [-4.69372964e-01, -5.55623743e-01, -4.43383786e-01,\n",
       "        -4.43565863e-01],\n",
       "       [ 8.93754819e-01,  1.20805914e+00, -6.48586898e-01,\n",
       "         9.60059781e-01],\n",
       "       [-3.91147254e-01, -1.16584296e+00,  1.16674272e+00,\n",
       "         9.14193588e-01],\n",
       "       [-1.18243164e-01,  2.01561009e-02, -4.21941038e-01,\n",
       "        -4.18197185e-01],\n",
       "       [ 7.16884038e-01,  3.40035238e-01, -1.27003675e+00,\n",
       "        -7.18600189e-01],\n",
       "       [-7.79897700e-01,  4.00982846e-01,  6.35500530e-01,\n",
       "        -1.97923343e-01],\n",
       "       [-8.08770545e-01,  1.29391978e+00, -1.34672768e+00,\n",
       "         8.19499663e-01],\n",
       "       [-1.71482064e+00,  1.17503252e+00, -7.22051457e-02,\n",
       "        -1.16619545e+00],\n",
       "       [-7.02184440e-01, -1.15305204e+00, -9.47443155e-01,\n",
       "         1.24627027e+00],\n",
       "       [-1.10682384e+00, -1.75590442e+00, -1.13557646e-01,\n",
       "         4.51642159e-03],\n",
       "       [ 1.92477094e+00, -1.32452931e+00, -1.62031809e-01,\n",
       "         5.37734181e-01]])"
      ]
     },
     "execution_count": 59,
     "metadata": {},
     "output_type": "execute_result"
    }
   ],
   "source": [
    "X_test_transformed"
   ]
  },
  {
   "cell_type": "markdown",
   "metadata": {},
   "source": [
    "# Model Training"
   ]
  },
  {
   "cell_type": "code",
   "execution_count": 62,
   "metadata": {},
   "outputs": [],
   "source": [
    "## Model Training\n",
    "\n",
    "from sklearn.linear_model import LinearRegression,Lasso,Ridge,ElasticNet\n",
    "from sklearn.metrics import r2_score,mean_absolute_error,mean_squared_error"
   ]
  },
  {
   "cell_type": "markdown",
   "metadata": {},
   "source": [
    "## Evaluating the Model"
   ]
  },
  {
   "cell_type": "code",
   "execution_count": 63,
   "metadata": {},
   "outputs": [],
   "source": [
    "import numpy as np\n",
    "def evaluate_model(true, predicted):\n",
    "    mae = mean_absolute_error(true, predicted)\n",
    "    mse = mean_squared_error(true, predicted)\n",
    "    rmse = np.sqrt(mean_squared_error(true, predicted))\n",
    "    r2_square = r2_score(true, predicted)\n",
    "    return mae, rmse, r2_square"
   ]
  },
  {
   "cell_type": "code",
   "execution_count": 64,
   "metadata": {},
   "outputs": [],
   "source": [
    "## Train multiple models\n",
    "\n",
    "models={\n",
    "    'LinearRegression':LinearRegression(),\n",
    "    'Lasso':Lasso(),\n",
    "    'Ridge':Ridge(),\n",
    "    'Elasticnet':ElasticNet()\n",
    "}"
   ]
  },
  {
   "cell_type": "code",
   "execution_count": 65,
   "metadata": {},
   "outputs": [],
   "source": [
    "trained_model_list=[]\n",
    "model_list=[]\n",
    "r2_list=[]"
   ]
  },
  {
   "cell_type": "code",
   "execution_count": 66,
   "metadata": {},
   "outputs": [
    {
     "data": {
      "text/plain": [
       "['LinearRegression', 'Lasso', 'Ridge', 'Elasticnet']"
      ]
     },
     "execution_count": 66,
     "metadata": {},
     "output_type": "execute_result"
    }
   ],
   "source": [
    "list(models)"
   ]
  },
  {
   "cell_type": "code",
   "execution_count": 67,
   "metadata": {},
   "outputs": [
    {
     "name": "stdout",
     "output_type": "stream",
     "text": [
      "LinearRegression()\n",
      "Lasso()\n",
      "Ridge()\n",
      "ElasticNet()\n"
     ]
    }
   ],
   "source": [
    "for i in range(len(list(models))):\n",
    "    model=list(models.values())[i]\n",
    "    print(model)"
   ]
  },
  {
   "cell_type": "code",
   "execution_count": 69,
   "metadata": {},
   "outputs": [
    {
     "data": {
      "text/plain": [
       "dict_keys(['LinearRegression', 'Lasso', 'Ridge', 'Elasticnet'])"
      ]
     },
     "execution_count": 69,
     "metadata": {},
     "output_type": "execute_result"
    }
   ],
   "source": [
    "models.keys()"
   ]
  },
  {
   "cell_type": "code",
   "execution_count": 70,
   "metadata": {},
   "outputs": [
    {
     "name": "stdout",
     "output_type": "stream",
     "text": [
      "LinearRegression\n",
      "Model Training Performance\n",
      "RMSE: 8.907519215617684\n",
      "MAE: 7.1331791215881575\n",
      "R2 score 98.25414050563545\n",
      "===================================\n",
      "\n",
      "\n",
      "Lasso\n",
      "Model Training Performance\n",
      "RMSE: 9.200191677448752\n",
      "MAE: 7.356015676730466\n",
      "R2 score 98.13752906361991\n",
      "===================================\n",
      "\n",
      "\n",
      "Ridge\n",
      "Model Training Performance\n",
      "RMSE: 8.9348530024718\n",
      "MAE: 7.156261735619102\n",
      "R2 score 98.24340930902295\n",
      "===================================\n",
      "\n",
      "\n",
      "Elasticnet\n",
      "Model Training Performance\n",
      "RMSE: 23.56281996505386\n",
      "MAE: 18.64867111558315\n",
      "R2 score 87.78340200008996\n",
      "===================================\n",
      "\n",
      "\n"
     ]
    }
   ],
   "source": [
    "for i in range(len(list(models))):\n",
    "    model=list(models.values())[i]\n",
    "    model.fit(X_train,y_train)\n",
    "\n",
    "    #Make Predictions\n",
    "    y_pred=model.predict(X_test)\n",
    "\n",
    "    #this is a validation(test) score\n",
    "    mae, rmse, r2_square=evaluate_model(y_test,y_pred)\n",
    "\n",
    "    print(list(models.keys())[i])\n",
    "    model_list.append(list(models.keys())[i])\n",
    "\n",
    "    print('Model Training Performance')\n",
    "    print(\"RMSE:\",rmse)\n",
    "    print(\"MAE:\",mae)\n",
    "    print(\"R2 score\",r2_square*100)\n",
    "\n",
    "    r2_list.append(r2_square)\n",
    "    \n",
    "    print('='*35)\n",
    "    print('\\n')"
   ]
  },
  {
   "cell_type": "code",
   "execution_count": 71,
   "metadata": {},
   "outputs": [
    {
     "data": {
      "text/plain": [
       "[]"
      ]
     },
     "execution_count": 71,
     "metadata": {},
     "output_type": "execute_result"
    }
   ],
   "source": [
    "trained_model_list"
   ]
  },
  {
   "cell_type": "code",
   "execution_count": 72,
   "metadata": {},
   "outputs": [
    {
     "data": {
      "text/plain": [
       "['LinearRegression', 'Lasso', 'Ridge', 'Elasticnet']"
      ]
     },
     "execution_count": 72,
     "metadata": {},
     "output_type": "execute_result"
    }
   ],
   "source": [
    "model_list"
   ]
  },
  {
   "cell_type": "code",
   "execution_count": 73,
   "metadata": {},
   "outputs": [
    {
     "data": {
      "text/plain": [
       "[0.9825414050563545,\n",
       " 0.9813752906361991,\n",
       " 0.9824340930902294,\n",
       " 0.8778340200008996]"
      ]
     },
     "execution_count": 73,
     "metadata": {},
     "output_type": "execute_result"
    }
   ],
   "source": [
    "r2_list"
   ]
  },
  {
   "cell_type": "code",
   "execution_count": 74,
   "metadata": {},
   "outputs": [
    {
     "name": "stdout",
     "output_type": "stream",
     "text": [
      "LinearRegression\n",
      "Model Training Performance\n",
      "RMSE: 8.907519215617727\n",
      "MAE: 7.133179121588185\n",
      "R2 score 98.25414050563543\n",
      "===================================\n",
      "\n",
      "\n",
      "Lasso\n",
      "Model Training Performance\n",
      "RMSE: 9.208251330781348\n",
      "MAE: 7.363444089196485\n",
      "R2 score 98.13426446966149\n",
      "===================================\n",
      "\n",
      "\n",
      "Ridge\n",
      "Model Training Performance\n",
      "RMSE: 8.936137582648207\n",
      "MAE: 7.157441481173484\n",
      "R2 score 98.24290417619349\n",
      "===================================\n",
      "\n",
      "\n",
      "Elasticnet\n",
      "Model Training Performance\n",
      "RMSE: 24.40877890638628\n",
      "MAE: 19.319793904087746\n",
      "R2 score 86.890447702397\n",
      "===================================\n",
      "\n",
      "\n"
     ]
    }
   ],
   "source": [
    "for i in range(len(list(models))):\n",
    "    model=list(models.values())[i]\n",
    "    model.fit(X_train_transformed,y_train)\n",
    "\n",
    "    #Make Predictions\n",
    "    y_pred=model.predict(X_test_transformed)\n",
    "\n",
    "    #this is a validation(test) score\n",
    "    mae, rmse, r2_square=evaluate_model(y_test,y_pred)\n",
    "\n",
    "    print(list(models.keys())[i])\n",
    "    model_list.append(list(models.keys())[i])\n",
    "\n",
    "    print('Model Training Performance')\n",
    "    print(\"RMSE:\",rmse)\n",
    "    print(\"MAE:\",mae)\n",
    "    print(\"R2 score\",r2_square*100)\n",
    "\n",
    "    r2_list.append(r2_square)\n",
    "    \n",
    "    print('='*35)\n",
    "    print('\\n')"
   ]
  },
  {
   "cell_type": "code",
   "execution_count": 75,
   "metadata": {},
   "outputs": [
    {
     "data": {
      "text/plain": [
       "[0.9825414050563545,\n",
       " 0.9813752906361991,\n",
       " 0.9824340930902294,\n",
       " 0.8778340200008996,\n",
       " 0.9825414050563543,\n",
       " 0.9813426446966149,\n",
       " 0.9824290417619349,\n",
       " 0.86890447702397]"
      ]
     },
     "execution_count": 75,
     "metadata": {},
     "output_type": "execute_result"
    }
   ],
   "source": [
    "r2_list"
   ]
  },
  {
   "cell_type": "code",
   "execution_count": null,
   "metadata": {},
   "outputs": [],
   "source": []
  }
 ],
 "metadata": {
  "kernelspec": {
   "display_name": "Python 3",
   "language": "python",
   "name": "python3"
  },
  "language_info": {
   "codemirror_mode": {
    "name": "ipython",
    "version": 3
   },
   "file_extension": ".py",
   "mimetype": "text/x-python",
   "name": "python",
   "nbconvert_exporter": "python",
   "pygments_lexer": "ipython3",
   "version": "3.8.0"
  }
 },
 "nbformat": 4,
 "nbformat_minor": 2
}
